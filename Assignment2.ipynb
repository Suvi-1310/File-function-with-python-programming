{
  "nbformat": 4,
  "nbformat_minor": 0,
  "metadata": {
    "colab": {
      "name": "Assignment2.ipynb",
      "provenance": []
    },
    "kernelspec": {
      "name": "python3",
      "display_name": "Python 3"
    },
    "language_info": {
      "name": "python"
    }
  },
  "cells": [
    {
      "cell_type": "code",
      "metadata": {
        "id": "TyvXf041uxFh"
      },
      "source": [
        "#Task-2\n",
        "#Name - Suviksha Pathariya"
      ],
      "execution_count": 1,
      "outputs": []
    },
    {
      "cell_type": "code",
      "metadata": {
        "id": "Y3_wvLaZu4my"
      },
      "source": [
        "#1. You need to take two input as number from the user and find out the Greatest Common Divisor of those two number and save it in a C drive with the file name as gcd_data.txt"
      ],
      "execution_count": 4,
      "outputs": []
    },
    {
      "cell_type": "code",
      "metadata": {
        "colab": {
          "base_uri": "https://localhost:8080/"
        },
        "id": "caVYmxnDvObN",
        "outputId": "7da9dcd0-a0a6-4cf2-834b-f79357c405ab"
      },
      "source": [
        "import math  \n",
        "print(\" GCD of two number 0 and 0 is \", math.gcd(0, 0)) #math.gcd(a, b), a and b are the two integer number"
      ],
      "execution_count": 3,
      "outputs": [
        {
          "output_type": "stream",
          "name": "stdout",
          "text": [
            " GCD of two number 0 and 0 is  0\n"
          ]
        }
      ]
    },
    {
      "cell_type": "code",
      "metadata": {
        "id": "HrRaLJiwvQAL"
      },
      "source": [
        "#2. Open a file in a read & write format make sure you make the write process from the byte position of your pointer from 15 - validate that by going through the file again"
      ],
      "execution_count": 5,
      "outputs": []
    },
    {
      "cell_type": "code",
      "metadata": {
        "id": "bhzh3jK3vtga"
      },
      "source": [
        "file = open('capitals.txt','w')\n",
        "file.write('London, ')\n",
        "file.write('Paris, ')\n",
        "file.write('Madrid, ')\n",
        "file.write('Lisbon, ')\n",
        "file.write('Rome,')\n",
        "file.close()"
      ],
      "execution_count": 7,
      "outputs": []
    },
    {
      "cell_type": "code",
      "metadata": {
        "colab": {
          "base_uri": "https://localhost:8080/"
        },
        "id": "KO5M4wvhx6Fx",
        "outputId": "4d13258c-c775-48d3-a857-bf83c271b916"
      },
      "source": [
        "file = open('capitals.txt','r')\n",
        "print(file.read())\n",
        "file.close"
      ],
      "execution_count": 8,
      "outputs": [
        {
          "output_type": "stream",
          "name": "stdout",
          "text": [
            "London, Paris, Madrid, Lisbon, Rome,\n"
          ]
        },
        {
          "output_type": "execute_result",
          "data": {
            "text/plain": [
              "<function TextIOWrapper.close>"
            ]
          },
          "metadata": {},
          "execution_count": 8
        }
      ]
    },
    {
      "cell_type": "code",
      "metadata": {
        "id": "jEc9ZP_DyRht"
      },
      "source": [
        "#3. You need a create a function which will check the validation of user password\n",
        "# Conditions are:\n",
        "#- password should have at least 1 capital letter\n",
        "#- 1 smaller letter\n",
        "#- Any special character only like !@#$%^\n",
        "#- Length of the password should be minimum 6 character & maximum 15 character\n",
        "#- Print a suitable message in case all the conditions are true other any other message"
      ],
      "execution_count": 9,
      "outputs": []
    },
    {
      "cell_type": "code",
      "metadata": {
        "colab": {
          "base_uri": "https://localhost:8080/"
        },
        "id": "3c1rzRrey5TH",
        "outputId": "3461782c-06d9-48fb-e065-f803261c017a"
      },
      "source": [
        "def password_check(passwd):\n",
        "      \n",
        "    SpecialSym =['!', '@', '#', '$', '%', '^']\n",
        "    val = True\n",
        "      \n",
        "    if len(passwd) < 6:\n",
        "        print('length should be at least 6')\n",
        "        val = False\n",
        "          \n",
        "    if len(passwd) > 15:\n",
        "        print('length should be not be greater than 15')\n",
        "        val = False\n",
        "                  \n",
        "    if not any(char.islower() for char in passwd):\n",
        "        print('Password should have at least one lowercase letter')\n",
        "        val = False\n",
        "          \n",
        "    if not any(char in SpecialSym for char in passwd):\n",
        "        print('Password should have at least one of the symbols !@#$%^')\n",
        "        val = False\n",
        "    if val:\n",
        "        return val\n",
        "  \n",
        "\n",
        "def main():\n",
        "    passwd = 'Suvi@12'\n",
        "      \n",
        "    if (password_check(passwd)):\n",
        "        print(\"Password is valid\")\n",
        "    else:\n",
        "        print(\"Invalid Password !!\")\n",
        "\n",
        "\n",
        "if __name__ == '__main__':\n",
        "    main()\n",
        "          \n"
      ],
      "execution_count": 13,
      "outputs": [
        {
          "output_type": "stream",
          "name": "stdout",
          "text": [
            "Password is valid\n"
          ]
        }
      ]
    },
    {
      "cell_type": "code",
      "metadata": {
        "id": "KkqXwNxp0Ydd"
      },
      "source": [
        "#4.  Write a Python Program to generate 26 text files named A.txt, B.txt and so on up to Z.txt"
      ],
      "execution_count": 14,
      "outputs": []
    },
    {
      "cell_type": "code",
      "metadata": {
        "id": "8CE94ec11G2m"
      },
      "source": [
        "import string\n",
        "def letters_file_line(n):\n",
        "   with open(\"words1.txt\", \"w\") as f:\n",
        "       alphabet = string.ascii_uppercase\n",
        "       letters = [alphabet[i:i + n] + \"\\n\" for i in range(0, len(alphabet), n)]\n",
        "       f.writelines(letters)\n",
        "letters_file_line(3)\n"
      ],
      "execution_count": 23,
      "outputs": []
    },
    {
      "cell_type": "code",
      "metadata": {
        "id": "tcAaSlyiOi43"
      },
      "source": [
        "#5.  Write a Python program to combine each line from the first file with the corresponding line in the second file and save it into the Third file."
      ],
      "execution_count": 25,
      "outputs": []
    },
    {
      "cell_type": "code",
      "metadata": {
        "id": "PmFESP5XSfnl"
      },
      "source": [
        "with open('file1.txt') as f1,open('man.txt') as f2:\n",
        "\tfor l1,l2 in zip(f1,f2):\n",
        "\t\tprint(l1+l2)\n",
        "\t\tl1=l1.strip()\n",
        "\t\tl2=l2.strip()\n",
        "\t\tprint(l1+l2)"
      ],
      "execution_count": null,
      "outputs": []
    },
    {
      "cell_type": "code",
      "metadata": {
        "id": "EA2z6mRJUQ4C"
      },
      "source": [
        ""
      ],
      "execution_count": null,
      "outputs": []
    }
  ]
}